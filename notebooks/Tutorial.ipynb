{
 "cells": [
  {
   "cell_type": "markdown",
   "id": "0feb4e0c",
   "metadata": {},
   "source": [
    "# 1. Install futures-zero"
   ]
  },
  {
   "cell_type": "code",
   "execution_count": 26,
   "id": "1d73b6cc",
   "metadata": {},
   "outputs": [
    {
     "name": "stdout",
     "output_type": "stream",
     "text": [
      "Requirement already satisfied: futures-zero in /Users/jaykim/Codes/venv3/lib/python3.9/site-packages (0.0b5)\n",
      "\u001b[33mWARNING: You are using pip version 21.2.4; however, version 21.3 is available.\n",
      "You should consider upgrading via the '/Users/jaykim/Codes/venv3/bin/python -m pip install --upgrade pip' command.\u001b[0m\n"
     ]
    }
   ],
   "source": [
    "! pip3 install futures-zero --upgrade"
   ]
  },
  {
   "cell_type": "code",
   "execution_count": 1,
   "id": "4e34b625",
   "metadata": {},
   "outputs": [],
   "source": [
    "import sys\n",
    "sys.path.insert(0, '/users/jaykim/codes/futures-zero/src')"
   ]
  },
  {
   "cell_type": "markdown",
   "id": "d80f799e",
   "metadata": {},
   "source": [
    "# 2. Import packages"
   ]
  },
  {
   "cell_type": "code",
   "execution_count": 2,
   "id": "f9448250",
   "metadata": {},
   "outputs": [],
   "source": [
    "import time\n",
    "import numpy as np\n",
    "import pandas as pd\n",
    "\n",
    "# Import Futures class\n",
    "from futures_zero import Futures"
   ]
  },
  {
   "cell_type": "markdown",
   "id": "6e9168f1",
   "metadata": {},
   "source": [
    "# 3. Basic parallelization using `submit`"
   ]
  },
  {
   "cell_type": "code",
   "execution_count": 3,
   "id": "8b833764",
   "metadata": {},
   "outputs": [],
   "source": [
    "def my_method(elem):\n",
    "    # do some work\n",
    "    time.sleep(0.5)\n",
    "    return elem"
   ]
  },
  {
   "cell_type": "code",
   "execution_count": 4,
   "id": "bde11ab9",
   "metadata": {},
   "outputs": [],
   "source": [
    "futures = Futures()"
   ]
  },
  {
   "cell_type": "code",
   "execution_count": 5,
   "id": "a92b5a7f",
   "metadata": {},
   "outputs": [],
   "source": [
    "for i in range(10):\n",
    "    futures.submit(my_method, i)"
   ]
  },
  {
   "cell_type": "code",
   "execution_count": 6,
   "id": "9472f6c4",
   "metadata": {},
   "outputs": [
    {
     "name": "stdout",
     "output_type": "stream",
     "text": [
      "Progress: |██████████████████████████████████████████████████| 100.0% | 00:00:01  Completed!\n"
     ]
    },
    {
     "data": {
      "text/plain": [
       "[1, 2, 0, 3, 4, 5, 6, 7, 9, 8]"
      ]
     },
     "execution_count": 6,
     "metadata": {},
     "output_type": "execute_result"
    }
   ],
   "source": [
    "futures.get()"
   ]
  },
  {
   "cell_type": "code",
   "execution_count": 7,
   "id": "99b50861",
   "metadata": {},
   "outputs": [
    {
     "data": {
      "text/plain": [
       "{1: 1, 2: 2, 0: 0, 3: 3, 4: 4, 5: 5, 6: 6, 7: 7, 9: 9, 8: 8}"
      ]
     },
     "execution_count": 7,
     "metadata": {},
     "output_type": "execute_result"
    }
   ],
   "source": [
    "# The computation result is saved in a dictionary. But the key of the dictionary is the integer order of the task. If\n",
    "# you wish to manipulate the keys, use submit_keyed below.\n",
    "futures.results"
   ]
  },
  {
   "cell_type": "code",
   "execution_count": 8,
   "id": "0a4b5d5b",
   "metadata": {},
   "outputs": [
    {
     "data": {
      "text/plain": [
       "{}"
      ]
     },
     "execution_count": 8,
     "metadata": {},
     "output_type": "execute_result"
    }
   ],
   "source": [
    "# Any exception that has been caught will be recorded in the ``errors`` field.\n",
    "futures.errors"
   ]
  },
  {
   "cell_type": "markdown",
   "id": "e18a043d",
   "metadata": {},
   "source": [
    "# 4. Submit with keys using `submit_keyed`"
   ]
  },
  {
   "cell_type": "code",
   "execution_count": 9,
   "id": "7162fcdd",
   "metadata": {},
   "outputs": [],
   "source": [
    "def my_method(elem):\n",
    "    # do some work\n",
    "    time.sleep(0.5)\n",
    "    return elem"
   ]
  },
  {
   "cell_type": "code",
   "execution_count": 10,
   "id": "4c4ef663",
   "metadata": {},
   "outputs": [],
   "source": [
    "futures = Futures()"
   ]
  },
  {
   "cell_type": "code",
   "execution_count": 11,
   "id": "15aa5c21",
   "metadata": {},
   "outputs": [],
   "source": [
    "for i, key in enumerate(['a', 'b', 'c', 'd']):\n",
    "    futures.submit_keyed(key, my_method, i)"
   ]
  },
  {
   "cell_type": "code",
   "execution_count": 12,
   "id": "b6de492e",
   "metadata": {},
   "outputs": [
    {
     "name": "stdout",
     "output_type": "stream",
     "text": [
      "Progress: |██████████████████████████████████████████████████| 100.0% | 00:00:00  Completed!\n"
     ]
    },
    {
     "data": {
      "text/plain": [
       "[0, 1, 2, 3]"
      ]
     },
     "execution_count": 12,
     "metadata": {},
     "output_type": "execute_result"
    }
   ],
   "source": [
    "futures.get()"
   ]
  },
  {
   "cell_type": "code",
   "execution_count": 13,
   "id": "07598b4d",
   "metadata": {},
   "outputs": [
    {
     "data": {
      "text/plain": [
       "{'a': 0, 'b': 1, 'c': 2, 'd': 3}"
      ]
     },
     "execution_count": 13,
     "metadata": {},
     "output_type": "execute_result"
    }
   ],
   "source": [
    "futures.results"
   ]
  },
  {
   "cell_type": "markdown",
   "id": "7f336017",
   "metadata": {},
   "source": [
    "# 5. Error handling: method exception"
   ]
  },
  {
   "cell_type": "code",
   "execution_count": 3,
   "id": "63c81b02",
   "metadata": {},
   "outputs": [],
   "source": [
    "def my_method(elem):\n",
    "    # raise some error\n",
    "    print('Trying!')\n",
    "    1/0\n",
    "    return elem"
   ]
  },
  {
   "cell_type": "code",
   "execution_count": 4,
   "id": "41281b8d",
   "metadata": {},
   "outputs": [],
   "source": [
    "futures = Futures(n_retries=2)"
   ]
  },
  {
   "cell_type": "code",
   "execution_count": 5,
   "id": "faffdf7d",
   "metadata": {},
   "outputs": [
    {
     "name": "stdout",
     "output_type": "stream",
     "text": [
      "Trying!\n"
     ]
    },
    {
     "name": "stderr",
     "output_type": "stream",
     "text": [
      "/users/jaykim/codes/futures-zero/src/futures_zero/worker.py:268: TASK_FAILED: task id 0 failed due to: ZeroDivisionError('division by zero')\n",
      "  warnings.warn(warning_msg, TASK_FAILED)\n"
     ]
    },
    {
     "name": "stdout",
     "output_type": "stream",
     "text": [
      "Trying!\n"
     ]
    },
    {
     "name": "stderr",
     "output_type": "stream",
     "text": [
      "/users/jaykim/codes/futures-zero/src/futures_zero/worker.py:268: TASK_FAILED: task id 0 failed due to: ZeroDivisionError('division by zero')\n",
      "  warnings.warn(warning_msg, TASK_FAILED)\n"
     ]
    },
    {
     "name": "stdout",
     "output_type": "stream",
     "text": [
      "Trying!\n"
     ]
    },
    {
     "name": "stderr",
     "output_type": "stream",
     "text": [
      "/users/jaykim/codes/futures-zero/src/futures_zero/worker.py:268: TASK_FAILED: task id 0 failed due to: ZeroDivisionError('division by zero')\n",
      "  warnings.warn(warning_msg, TASK_FAILED)\n"
     ]
    }
   ],
   "source": [
    "futures.submit(my_method, 0)"
   ]
  },
  {
   "cell_type": "code",
   "execution_count": 6,
   "id": "e43a2460",
   "metadata": {},
   "outputs": [
    {
     "name": "stdout",
     "output_type": "stream",
     "text": [
      "\r",
      "Progress: |--------------------------------------------------| 0.0% | 00:00:00  \r"
     ]
    },
    {
     "data": {
      "text/plain": [
       "[]"
      ]
     },
     "execution_count": 6,
     "metadata": {},
     "output_type": "execute_result"
    }
   ],
   "source": [
    "futures.get()"
   ]
  },
  {
   "cell_type": "code",
   "execution_count": 8,
   "id": "6a953678",
   "metadata": {},
   "outputs": [
    {
     "data": {
      "text/plain": [
       "{}"
      ]
     },
     "execution_count": 8,
     "metadata": {},
     "output_type": "execute_result"
    }
   ],
   "source": [
    "futures.results"
   ]
  },
  {
   "cell_type": "code",
   "execution_count": 9,
   "id": "b2335bc4",
   "metadata": {},
   "outputs": [
    {
     "data": {
      "text/plain": [
       "{0: \"ZeroDivisionError('division by zero')\"}"
      ]
     },
     "execution_count": 9,
     "metadata": {},
     "output_type": "execute_result"
    }
   ],
   "source": [
    "futures.errors"
   ]
  },
  {
   "cell_type": "markdown",
   "id": "3bdbb73f",
   "metadata": {},
   "source": [
    "# 6. Error handling: worker death"
   ]
  },
  {
   "cell_type": "code",
   "execution_count": 4,
   "id": "a81754f2",
   "metadata": {},
   "outputs": [],
   "source": [
    "def my_method(elem):\n",
    "    print('Trying!')\n",
    "    import sys\n",
    "    sys.exit()\n",
    "    return elem"
   ]
  },
  {
   "cell_type": "code",
   "execution_count": 5,
   "id": "88ac8561",
   "metadata": {},
   "outputs": [],
   "source": [
    "futures = Futures(n_retries=2)"
   ]
  },
  {
   "cell_type": "code",
   "execution_count": 6,
   "id": "9eac89e8",
   "metadata": {},
   "outputs": [
    {
     "name": "stdout",
     "output_type": "stream",
     "text": [
      "Trying!\n",
      "Trying!\n",
      "Trying!\n"
     ]
    }
   ],
   "source": [
    "futures.submit(my_method, 0)"
   ]
  },
  {
   "cell_type": "code",
   "execution_count": 7,
   "id": "eb02005a",
   "metadata": {},
   "outputs": [
    {
     "name": "stdout",
     "output_type": "stream",
     "text": [
      "\r",
      "Progress: |--------------------------------------------------| 0.0% | 00:00:00  \r"
     ]
    },
    {
     "name": "stderr",
     "output_type": "stream",
     "text": [
      "/users/jaykim/codes/futures-zero/src/futures_zero/futures.py:786: WORKER_FAILED: task id 0 failed due to: worker death\n",
      "  warnings.warn(warning_msg, WORKER_FAILED)\n"
     ]
    },
    {
     "data": {
      "text/plain": [
       "[]"
      ]
     },
     "execution_count": 7,
     "metadata": {},
     "output_type": "execute_result"
    }
   ],
   "source": [
    "futures.get()"
   ]
  },
  {
   "cell_type": "code",
   "execution_count": 8,
   "id": "5fedf96d",
   "metadata": {},
   "outputs": [
    {
     "data": {
      "text/plain": [
       "{}"
      ]
     },
     "execution_count": 8,
     "metadata": {},
     "output_type": "execute_result"
    }
   ],
   "source": [
    "futures.results"
   ]
  },
  {
   "cell_type": "code",
   "execution_count": 9,
   "id": "41492dce",
   "metadata": {},
   "outputs": [
    {
     "data": {
      "text/plain": [
       "{0: 'Premature worker death'}"
      ]
     },
     "execution_count": 9,
     "metadata": {},
     "output_type": "execute_result"
    }
   ],
   "source": [
    "futures.errors"
   ]
  },
  {
   "cell_type": "markdown",
   "id": "703051a6",
   "metadata": {},
   "source": [
    "# 7. Submit stateful methods using ``submit_stateful``\n",
    "\n",
    "You can directly control the local data by declaring them at the start of each subprocess."
   ]
  },
  {
   "cell_type": "code",
   "execution_count": 10,
   "id": "0f777426",
   "metadata": {},
   "outputs": [],
   "source": [
    "from futures_zero import BaseWorker\n",
    "\n",
    "class Worker(BaseWorker):\n",
    "    \n",
    "    def __init__(self, *args, **kwargs):\n",
    "        super(Worker, self).__init__(*args, **kwargs)\n",
    "        \n",
    "        self.local_data = np.arange(10)"
   ]
  },
  {
   "cell_type": "code",
   "execution_count": 11,
   "id": "91209d22",
   "metadata": {},
   "outputs": [],
   "source": [
    "futures = Futures(worker=Worker)"
   ]
  },
  {
   "cell_type": "code",
   "execution_count": 12,
   "id": "5c4e7543",
   "metadata": {},
   "outputs": [],
   "source": [
    "# When using the ``submit_stateful`` method, the user function must have a signature that has \"self\" as the first\n",
    "# positional argument. This self is the ``WorkerProcess`` Process subclass. But since we've subclassed the \n",
    "# ``WorkerProcess`` (\"BaseWorker\" is an alias for that class) and created the ``local_data`` field, the stateful\n",
    "# method has access to it. The ``local_data`` is created in each of the worker process.\n",
    "\n",
    "def my_method(self, i):\n",
    "    \n",
    "    return self.local_data[i]"
   ]
  },
  {
   "cell_type": "code",
   "execution_count": 13,
   "id": "434f6c8e",
   "metadata": {
    "scrolled": true
   },
   "outputs": [],
   "source": [
    "for i in range(10):\n",
    "    futures.submit_stateful(my_method, i)"
   ]
  },
  {
   "cell_type": "code",
   "execution_count": 14,
   "id": "f7cd4b64",
   "metadata": {},
   "outputs": [
    {
     "name": "stdout",
     "output_type": "stream",
     "text": [
      "\r",
      "Progress: |--------------------------------------------------| 0.0% | 00:00:00  \r",
      "\r",
      "Progress: |█████---------------------------------------------| 10.0% | 00:00:00  \r",
      "\r",
      "Progress: |██████████----------------------------------------| 20.0% | 00:00:00  \r",
      "\r",
      "Progress: |███████████████-----------------------------------| 30.0% | 00:00:00  \r",
      "\r",
      "Progress: |████████████████████------------------------------| 40.0% | 00:00:00  \r",
      "\r",
      "Progress: |█████████████████████████-------------------------| 50.0% | 00:00:00  \r",
      "\r",
      "Progress: |██████████████████████████████--------------------| 60.0% | 00:00:00  \r",
      "\r",
      "Progress: |███████████████████████████████████---------------| 70.0% | 00:00:00  \r",
      "\r",
      "Progress: |████████████████████████████████████████----------| 80.0% | 00:00:00  \r",
      "\r",
      "Progress: |█████████████████████████████████████████████-----| 90.0% | 00:00:00  \r",
      "\r",
      "Progress: |██████████████████████████████████████████████████| 100.0% | 00:00:00  \r",
      "\r",
      "Progress: |██████████████████████████████████████████████████| 100.0% | 00:00:00  Completed!\r",
      "\r\n"
     ]
    },
    {
     "data": {
      "text/plain": [
       "[array(0),\n",
       " array(1),\n",
       " array(2),\n",
       " array(3),\n",
       " array(4),\n",
       " array(5),\n",
       " array(7),\n",
       " array(8),\n",
       " array(6),\n",
       " array(9)]"
      ]
     },
     "execution_count": 14,
     "metadata": {},
     "output_type": "execute_result"
    }
   ],
   "source": [
    "futures.get()"
   ]
  },
  {
   "cell_type": "markdown",
   "id": "355798fa",
   "metadata": {},
   "source": [
    "# 8. Passing in arguments for WorkerProcess when using ``submit_stateful``"
   ]
  },
  {
   "cell_type": "code",
   "execution_count": 3,
   "id": "e60f819e",
   "metadata": {},
   "outputs": [],
   "source": [
    "# You can also pass in arguments directly to the WorkerProcesses\n",
    "class DataProducer():\n",
    "    \n",
    "    def get_data(self):\n",
    "        return np.arange(10)\n",
    "\n",
    "data_producer = DataProducer()"
   ]
  },
  {
   "cell_type": "code",
   "execution_count": 4,
   "id": "ab5e9639",
   "metadata": {},
   "outputs": [],
   "source": [
    "from futures_zero import BaseWorker\n",
    "\n",
    "class Worker(BaseWorker):\n",
    "    \n",
    "    def __init__(self, data_producer, *args, **kwargs):\n",
    "        super(Worker, self).__init__(*args, **kwargs)\n",
    "        \n",
    "        self.data_producer = data_producer"
   ]
  },
  {
   "cell_type": "code",
   "execution_count": 5,
   "id": "44039f10",
   "metadata": {},
   "outputs": [],
   "source": [
    "# Since Worker needs to be passed in as a keyword argument, any arguments meant for the worker must also be keyword\n",
    "# arguments.\n",
    "futures = Futures(worker=Worker, data_producer=data_producer)"
   ]
  },
  {
   "cell_type": "code",
   "execution_count": 6,
   "id": "bafadf72",
   "metadata": {},
   "outputs": [],
   "source": [
    "# When using the ``submit_stateful`` method, the user function must have a signature that has \"self\" as the first\n",
    "# positional argument. This self is the ``WorkerProcess`` Process subclass. But since we've subclassed the \n",
    "# ``WorkerProcess`` (\"BaseWorker\" is an alias for that class) and created the ``local_data`` field, the stateful\n",
    "# method has access to it. The ``local_data`` is created in each of the worker process.\n",
    "\n",
    "def my_method(self, i):\n",
    "    \n",
    "    return self.data_producer.get_data()[i]"
   ]
  },
  {
   "cell_type": "code",
   "execution_count": 7,
   "id": "7d93a51f",
   "metadata": {},
   "outputs": [],
   "source": [
    "for i in range(10):\n",
    "    futures.submit_stateful(my_method, i)"
   ]
  },
  {
   "cell_type": "code",
   "execution_count": 8,
   "id": "1dc10603",
   "metadata": {},
   "outputs": [
    {
     "name": "stdout",
     "output_type": "stream",
     "text": [
      "\r",
      "Progress: |--------------------------------------------------| 0.0% | 00:00:00  \r",
      "\r",
      "Progress: |█████---------------------------------------------| 10.0% | 00:00:00  \r",
      "\r",
      "Progress: |██████████----------------------------------------| 20.0% | 00:00:00  \r",
      "\r",
      "Progress: |███████████████-----------------------------------| 30.0% | 00:00:00  \r",
      "\r",
      "Progress: |████████████████████------------------------------| 40.0% | 00:00:00  \r",
      "\r",
      "Progress: |█████████████████████████-------------------------| 50.0% | 00:00:00  \r",
      "\r",
      "Progress: |██████████████████████████████--------------------| 60.0% | 00:00:00  \r",
      "\r",
      "Progress: |███████████████████████████████████---------------| 70.0% | 00:00:00  \r",
      "\r",
      "Progress: |████████████████████████████████████████----------| 80.0% | 00:00:00  \r",
      "\r",
      "Progress: |█████████████████████████████████████████████-----| 90.0% | 00:00:00  \r",
      "\r",
      "Progress: |██████████████████████████████████████████████████| 100.0% | 00:00:00  \r",
      "\r",
      "Progress: |██████████████████████████████████████████████████| 100.0% | 00:00:00  Completed!\r",
      "\r\n"
     ]
    },
    {
     "data": {
      "text/plain": [
       "[array(0),\n",
       " array(1),\n",
       " array(2),\n",
       " array(4),\n",
       " array(3),\n",
       " array(5),\n",
       " array(6),\n",
       " array(7),\n",
       " array(8),\n",
       " array(9)]"
      ]
     },
     "execution_count": 8,
     "metadata": {},
     "output_type": "execute_result"
    }
   ],
   "source": [
    "futures.get()"
   ]
  },
  {
   "cell_type": "markdown",
   "id": "2124aee5",
   "metadata": {},
   "source": [
    "# 9. Submit stateful methods with keys using ``submit_stateful_keyed``"
   ]
  },
  {
   "cell_type": "code",
   "execution_count": 11,
   "id": "dba7bd30",
   "metadata": {},
   "outputs": [],
   "source": [
    "from futures_zero import BaseWorker\n",
    "\n",
    "class Worker(BaseWorker):\n",
    "    \n",
    "    def __init__(self, *args, **kwargs):\n",
    "        super(Worker, self).__init__(*args, **kwargs)\n",
    "        \n",
    "        self.local_data = np.arange(10)"
   ]
  },
  {
   "cell_type": "code",
   "execution_count": 12,
   "id": "32fba98d",
   "metadata": {},
   "outputs": [],
   "source": [
    "futures = Futures(worker=Worker)"
   ]
  },
  {
   "cell_type": "code",
   "execution_count": 13,
   "id": "78361691",
   "metadata": {},
   "outputs": [],
   "source": [
    "def my_method(self, i):\n",
    "    \n",
    "    return self.local_data[i]"
   ]
  },
  {
   "cell_type": "code",
   "execution_count": 14,
   "id": "ae7fc69d",
   "metadata": {},
   "outputs": [],
   "source": [
    "for key in ['a', 'b', 'c', 'd']:\n",
    "    \n",
    "    futures.submit_stateful_keyed(key, my_method, i)"
   ]
  },
  {
   "cell_type": "code",
   "execution_count": 15,
   "id": "be633fa9",
   "metadata": {},
   "outputs": [
    {
     "name": "stdout",
     "output_type": "stream",
     "text": [
      "\r",
      "Progress: |--------------------------------------------------| 0.0% | 00:00:00  \r",
      "\r",
      "Progress: |████████████--------------------------------------| 25.0% | 00:00:00  \r",
      "\r",
      "Progress: |█████████████████████████-------------------------| 50.0% | 00:00:00  \r",
      "\r",
      "Progress: |█████████████████████████████████████-------------| 75.0% | 00:00:00  \r",
      "\r",
      "Progress: |██████████████████████████████████████████████████| 100.0% | 00:00:00  \r",
      "\r",
      "Progress: |██████████████████████████████████████████████████| 100.0% | 00:00:00  Completed!\r",
      "\r\n"
     ]
    },
    {
     "data": {
      "text/plain": [
       "[array(9), array(9), array(9), array(9)]"
      ]
     },
     "execution_count": 15,
     "metadata": {},
     "output_type": "execute_result"
    }
   ],
   "source": [
    "futures.get()"
   ]
  },
  {
   "cell_type": "code",
   "execution_count": 16,
   "id": "4036a540",
   "metadata": {},
   "outputs": [
    {
     "data": {
      "text/plain": [
       "{'a': array(9), 'b': array(9), 'c': array(9), 'd': array(9)}"
      ]
     },
     "execution_count": 16,
     "metadata": {},
     "output_type": "execute_result"
    }
   ],
   "source": [
    "futures.results"
   ]
  },
  {
   "cell_type": "markdown",
   "id": "ce6eafb3",
   "metadata": {},
   "source": [
    "# 10. Parallel process Pandas dataframe using `apply_to` and `apply`\n",
    "\n",
    "When using ``apply``, the user function must have in its signature the dataframe as its first positional argument."
   ]
  },
  {
   "cell_type": "code",
   "execution_count": 3,
   "id": "972cb03e",
   "metadata": {},
   "outputs": [],
   "source": [
    "futures = Futures()"
   ]
  },
  {
   "cell_type": "code",
   "execution_count": 4,
   "id": "9be2370c",
   "metadata": {},
   "outputs": [],
   "source": [
    "example_df = pd.DataFrame(np.arange(9).reshape(3, 3), columns=['a', 'b', 'c'])"
   ]
  },
  {
   "cell_type": "code",
   "execution_count": 5,
   "id": "748f7fc6",
   "metadata": {},
   "outputs": [],
   "source": [
    "# Register the dataframe to process.\n",
    "futures.apply_to(example_df)"
   ]
  },
  {
   "cell_type": "code",
   "execution_count": 6,
   "id": "1da3b826",
   "metadata": {},
   "outputs": [],
   "source": [
    "def my_method(df, col):\n",
    "    return df[col].mean()"
   ]
  },
  {
   "cell_type": "code",
   "execution_count": 7,
   "id": "90f8596d",
   "metadata": {},
   "outputs": [],
   "source": [
    "for elem in ['a', 'b', 'c']:\n",
    "    futures.apply(my_method, elem)"
   ]
  },
  {
   "cell_type": "code",
   "execution_count": 8,
   "id": "8f04a82a",
   "metadata": {},
   "outputs": [
    {
     "name": "stdout",
     "output_type": "stream",
     "text": [
      "\r",
      "Progress: |--------------------------------------------------| 0.0% | 00:00:00  \r",
      "\r",
      "Progress: |████████████████----------------------------------| 33.3% | 00:00:00  \r",
      "\r",
      "Progress: |█████████████████████████████████-----------------| 66.7% | 00:00:00  \r",
      "\r",
      "Progress: |██████████████████████████████████████████████████| 100.0% | 00:00:00  \r",
      "\r",
      "Progress: |██████████████████████████████████████████████████| 100.0% | 00:00:00  Completed!\r",
      "\r\n"
     ]
    },
    {
     "data": {
      "text/html": [
       "<div>\n",
       "<style scoped>\n",
       "    .dataframe tbody tr th:only-of-type {\n",
       "        vertical-align: middle;\n",
       "    }\n",
       "\n",
       "    .dataframe tbody tr th {\n",
       "        vertical-align: top;\n",
       "    }\n",
       "\n",
       "    .dataframe thead th {\n",
       "        text-align: right;\n",
       "    }\n",
       "</style>\n",
       "<table border=\"1\" class=\"dataframe\">\n",
       "  <thead>\n",
       "    <tr style=\"text-align: right;\">\n",
       "      <th></th>\n",
       "      <th>a</th>\n",
       "      <th>b</th>\n",
       "      <th>c</th>\n",
       "    </tr>\n",
       "  </thead>\n",
       "  <tbody>\n",
       "    <tr>\n",
       "      <th>0</th>\n",
       "      <td>0</td>\n",
       "      <td>1</td>\n",
       "      <td>2</td>\n",
       "    </tr>\n",
       "    <tr>\n",
       "      <th>1</th>\n",
       "      <td>3</td>\n",
       "      <td>4</td>\n",
       "      <td>5</td>\n",
       "    </tr>\n",
       "    <tr>\n",
       "      <th>2</th>\n",
       "      <td>6</td>\n",
       "      <td>7</td>\n",
       "      <td>8</td>\n",
       "    </tr>\n",
       "  </tbody>\n",
       "</table>\n",
       "</div>"
      ],
      "text/plain": [
       "   a  b  c\n",
       "0  0  1  2\n",
       "1  3  4  5\n",
       "2  6  7  8"
      ]
     },
     "execution_count": 8,
     "metadata": {},
     "output_type": "execute_result"
    }
   ],
   "source": [
    "futures.get()"
   ]
  },
  {
   "cell_type": "code",
   "execution_count": 9,
   "id": "d72529cc",
   "metadata": {},
   "outputs": [
    {
     "data": {
      "text/plain": [
       "{0: array(3.), 2: array(5.), 1: array(4.)}"
      ]
     },
     "execution_count": 9,
     "metadata": {},
     "output_type": "execute_result"
    }
   ],
   "source": [
    "futures.results"
   ]
  },
  {
   "cell_type": "markdown",
   "id": "06d9c933",
   "metadata": {},
   "source": [
    "# 11. Append new columns using `capply`\n",
    "\n",
    "When using the ``capply``, the user function return value must be a numpy ndarray with same length as the input dataframe."
   ]
  },
  {
   "cell_type": "code",
   "execution_count": 19,
   "id": "281bea3e",
   "metadata": {},
   "outputs": [],
   "source": [
    "futures = Futures()"
   ]
  },
  {
   "cell_type": "code",
   "execution_count": 20,
   "id": "478c22ea",
   "metadata": {},
   "outputs": [],
   "source": [
    "example_df = pd.DataFrame(np.arange(9).reshape(3, 3), columns=['a', 'b', 'c'])"
   ]
  },
  {
   "cell_type": "code",
   "execution_count": 21,
   "id": "20dedfaa",
   "metadata": {},
   "outputs": [],
   "source": [
    "# Register the dataframe to process.\n",
    "futures.apply_to(example_df)"
   ]
  },
  {
   "cell_type": "code",
   "execution_count": 22,
   "id": "e9123c19",
   "metadata": {},
   "outputs": [],
   "source": [
    "def my_method(df, col):\n",
    "    return df[col]*2"
   ]
  },
  {
   "cell_type": "code",
   "execution_count": 23,
   "id": "b049eb7c",
   "metadata": {},
   "outputs": [],
   "source": [
    "df_columns = ['a', 'b', 'c']\n",
    "new_columns = ['a2', 'b2', 'c2']\n",
    "\n",
    "for i in range(3):\n",
    "    \n",
    "    # The first positional argument is the name of the new column.\n",
    "    futures.capply(new_columns[i], my_method, df_columns[i])"
   ]
  },
  {
   "cell_type": "code",
   "execution_count": 24,
   "id": "7881ae94",
   "metadata": {},
   "outputs": [
    {
     "name": "stdout",
     "output_type": "stream",
     "text": [
      "\r",
      "Progress: |--------------------------------------------------| 0.0% | 00:00:00  \r",
      "\r",
      "Progress: |████████████████----------------------------------| 33.3% | 00:00:00  \r",
      "\r",
      "Progress: |█████████████████████████████████-----------------| 66.7% | 00:00:00  \r",
      "\r",
      "Progress: |██████████████████████████████████████████████████| 100.0% | 00:00:00  \r",
      "\r",
      "Progress: |██████████████████████████████████████████████████| 100.0% | 00:00:00  Completed!\r",
      "\r\n"
     ]
    },
    {
     "data": {
      "text/html": [
       "<div>\n",
       "<style scoped>\n",
       "    .dataframe tbody tr th:only-of-type {\n",
       "        vertical-align: middle;\n",
       "    }\n",
       "\n",
       "    .dataframe tbody tr th {\n",
       "        vertical-align: top;\n",
       "    }\n",
       "\n",
       "    .dataframe thead th {\n",
       "        text-align: right;\n",
       "    }\n",
       "</style>\n",
       "<table border=\"1\" class=\"dataframe\">\n",
       "  <thead>\n",
       "    <tr style=\"text-align: right;\">\n",
       "      <th></th>\n",
       "      <th>a</th>\n",
       "      <th>b</th>\n",
       "      <th>c</th>\n",
       "      <th>a2</th>\n",
       "      <th>b2</th>\n",
       "      <th>c2</th>\n",
       "    </tr>\n",
       "  </thead>\n",
       "  <tbody>\n",
       "    <tr>\n",
       "      <th>0</th>\n",
       "      <td>0</td>\n",
       "      <td>1</td>\n",
       "      <td>2</td>\n",
       "      <td>0</td>\n",
       "      <td>2</td>\n",
       "      <td>4</td>\n",
       "    </tr>\n",
       "    <tr>\n",
       "      <th>1</th>\n",
       "      <td>3</td>\n",
       "      <td>4</td>\n",
       "      <td>5</td>\n",
       "      <td>6</td>\n",
       "      <td>8</td>\n",
       "      <td>10</td>\n",
       "    </tr>\n",
       "    <tr>\n",
       "      <th>2</th>\n",
       "      <td>6</td>\n",
       "      <td>7</td>\n",
       "      <td>8</td>\n",
       "      <td>12</td>\n",
       "      <td>14</td>\n",
       "      <td>16</td>\n",
       "    </tr>\n",
       "  </tbody>\n",
       "</table>\n",
       "</div>"
      ],
      "text/plain": [
       "   a  b  c  a2  b2  c2\n",
       "0  0  1  2   0   2   4\n",
       "1  3  4  5   6   8  10\n",
       "2  6  7  8  12  14  16"
      ]
     },
     "execution_count": 24,
     "metadata": {},
     "output_type": "execute_result"
    }
   ],
   "source": [
    "futures.get()"
   ]
  },
  {
   "cell_type": "code",
   "execution_count": 25,
   "id": "9f414d05",
   "metadata": {},
   "outputs": [
    {
     "data": {
      "text/plain": [
       "{'a2': None, 'b2': None, 'c2': None}"
      ]
     },
     "execution_count": 25,
     "metadata": {},
     "output_type": "execute_result"
    }
   ],
   "source": [
    "# If the results are appended to the dataframe, they are not saved in results dict.\n",
    "futures.results"
   ]
  },
  {
   "cell_type": "markdown",
   "id": "b5bfa3c3",
   "metadata": {},
   "source": [
    "# 12. Appending multiple columns"
   ]
  },
  {
   "cell_type": "code",
   "execution_count": 10,
   "id": "f85f9cbc",
   "metadata": {},
   "outputs": [],
   "source": [
    "futures = Futures()"
   ]
  },
  {
   "cell_type": "code",
   "execution_count": 11,
   "id": "972f8bde",
   "metadata": {},
   "outputs": [],
   "source": [
    "example_df = pd.DataFrame(np.arange(9).reshape(3, 3), columns=['a', 'b', 'c'])"
   ]
  },
  {
   "cell_type": "code",
   "execution_count": 12,
   "id": "80545e23",
   "metadata": {},
   "outputs": [],
   "source": [
    "# Register the dataframe to process.\n",
    "futures.apply_to(example_df)"
   ]
  },
  {
   "cell_type": "code",
   "execution_count": 13,
   "id": "6f26ad04",
   "metadata": {},
   "outputs": [],
   "source": [
    "def my_method(df, cols):\n",
    "    return df[cols]*2"
   ]
  },
  {
   "cell_type": "code",
   "execution_count": 14,
   "id": "5549730d",
   "metadata": {},
   "outputs": [
    {
     "data": {
      "text/html": [
       "<div>\n",
       "<style scoped>\n",
       "    .dataframe tbody tr th:only-of-type {\n",
       "        vertical-align: middle;\n",
       "    }\n",
       "\n",
       "    .dataframe tbody tr th {\n",
       "        vertical-align: top;\n",
       "    }\n",
       "\n",
       "    .dataframe thead th {\n",
       "        text-align: right;\n",
       "    }\n",
       "</style>\n",
       "<table border=\"1\" class=\"dataframe\">\n",
       "  <thead>\n",
       "    <tr style=\"text-align: right;\">\n",
       "      <th></th>\n",
       "      <th>a</th>\n",
       "      <th>b</th>\n",
       "    </tr>\n",
       "  </thead>\n",
       "  <tbody>\n",
       "    <tr>\n",
       "      <th>0</th>\n",
       "      <td>0</td>\n",
       "      <td>2</td>\n",
       "    </tr>\n",
       "    <tr>\n",
       "      <th>1</th>\n",
       "      <td>6</td>\n",
       "      <td>8</td>\n",
       "    </tr>\n",
       "    <tr>\n",
       "      <th>2</th>\n",
       "      <td>12</td>\n",
       "      <td>14</td>\n",
       "    </tr>\n",
       "  </tbody>\n",
       "</table>\n",
       "</div>"
      ],
      "text/plain": [
       "    a   b\n",
       "0   0   2\n",
       "1   6   8\n",
       "2  12  14"
      ]
     },
     "execution_count": 14,
     "metadata": {},
     "output_type": "execute_result"
    }
   ],
   "source": [
    "my_method(example_df, ['a', 'b'])"
   ]
  },
  {
   "cell_type": "code",
   "execution_count": 15,
   "id": "275c6fda",
   "metadata": {},
   "outputs": [],
   "source": [
    "new_columns = ['a2', 'b2']"
   ]
  },
  {
   "cell_type": "code",
   "execution_count": 16,
   "id": "5b3d1c45",
   "metadata": {},
   "outputs": [],
   "source": [
    "futures.capply(new_columns, my_method, ['a', 'b'])"
   ]
  },
  {
   "cell_type": "code",
   "execution_count": 17,
   "id": "b2fe8468",
   "metadata": {},
   "outputs": [
    {
     "name": "stdout",
     "output_type": "stream",
     "text": [
      "\r",
      "Progress: |--------------------------------------------------| 0.0% | 00:00:00  \r",
      "\r",
      "Progress: |██████████████████████████████████████████████████| 100.0% | 00:00:00  \r",
      "\r",
      "Progress: |██████████████████████████████████████████████████| 100.0% | 00:00:00  Completed!\r",
      "\r\n"
     ]
    },
    {
     "data": {
      "text/html": [
       "<div>\n",
       "<style scoped>\n",
       "    .dataframe tbody tr th:only-of-type {\n",
       "        vertical-align: middle;\n",
       "    }\n",
       "\n",
       "    .dataframe tbody tr th {\n",
       "        vertical-align: top;\n",
       "    }\n",
       "\n",
       "    .dataframe thead th {\n",
       "        text-align: right;\n",
       "    }\n",
       "</style>\n",
       "<table border=\"1\" class=\"dataframe\">\n",
       "  <thead>\n",
       "    <tr style=\"text-align: right;\">\n",
       "      <th></th>\n",
       "      <th>a</th>\n",
       "      <th>b</th>\n",
       "      <th>c</th>\n",
       "      <th>a2</th>\n",
       "      <th>b2</th>\n",
       "    </tr>\n",
       "  </thead>\n",
       "  <tbody>\n",
       "    <tr>\n",
       "      <th>0</th>\n",
       "      <td>0</td>\n",
       "      <td>1</td>\n",
       "      <td>2</td>\n",
       "      <td>0</td>\n",
       "      <td>2</td>\n",
       "    </tr>\n",
       "    <tr>\n",
       "      <th>1</th>\n",
       "      <td>3</td>\n",
       "      <td>4</td>\n",
       "      <td>5</td>\n",
       "      <td>6</td>\n",
       "      <td>8</td>\n",
       "    </tr>\n",
       "    <tr>\n",
       "      <th>2</th>\n",
       "      <td>6</td>\n",
       "      <td>7</td>\n",
       "      <td>8</td>\n",
       "      <td>12</td>\n",
       "      <td>14</td>\n",
       "    </tr>\n",
       "  </tbody>\n",
       "</table>\n",
       "</div>"
      ],
      "text/plain": [
       "   a  b  c  a2  b2\n",
       "0  0  1  2   0   2\n",
       "1  3  4  5   6   8\n",
       "2  6  7  8  12  14"
      ]
     },
     "execution_count": 17,
     "metadata": {},
     "output_type": "execute_result"
    }
   ],
   "source": [
    "futures.get()"
   ]
  },
  {
   "cell_type": "code",
   "execution_count": 18,
   "id": "b21686d9",
   "metadata": {},
   "outputs": [
    {
     "data": {
      "text/plain": [
       "{('a2', 'b2'): None}"
      ]
     },
     "execution_count": 18,
     "metadata": {},
     "output_type": "execute_result"
    }
   ],
   "source": [
    "futures.results"
   ]
  },
  {
   "cell_type": "markdown",
   "id": "d814696f",
   "metadata": {},
   "source": [
    "# 10. Using `apply` and `capply` together"
   ]
  },
  {
   "cell_type": "code",
   "execution_count": 3,
   "id": "6f0c9398",
   "metadata": {},
   "outputs": [],
   "source": [
    "futures = Futures()"
   ]
  },
  {
   "cell_type": "code",
   "execution_count": 4,
   "id": "d328a157",
   "metadata": {},
   "outputs": [],
   "source": [
    "example_df = pd.DataFrame(np.arange(9).reshape(3, 3), columns=['a', 'b', 'c'])"
   ]
  },
  {
   "cell_type": "code",
   "execution_count": 5,
   "id": "040bd248",
   "metadata": {},
   "outputs": [],
   "source": [
    "# Register the dataframe to process.\n",
    "futures.apply_to(example_df)"
   ]
  },
  {
   "cell_type": "code",
   "execution_count": 6,
   "id": "ba22ac8e",
   "metadata": {},
   "outputs": [],
   "source": [
    "def my_method(df, col):\n",
    "    return df[col]*2\n",
    "\n",
    "def my_other_method(df, col):\n",
    "    return df[col].mean()"
   ]
  },
  {
   "cell_type": "code",
   "execution_count": 7,
   "id": "cafb7003",
   "metadata": {},
   "outputs": [],
   "source": [
    "df_columns = ['a', 'b', 'c']\n",
    "new_columns = ['a2', 'b2', 'c2']\n",
    "\n",
    "for i in range(3):\n",
    "    \n",
    "    futures.capply(new_columns[i], my_method, df_columns[i])\n",
    "    \n",
    "for i in range(3):\n",
    "    \n",
    "    futures.apply(my_other_method, df_columns[i])"
   ]
  },
  {
   "cell_type": "code",
   "execution_count": 8,
   "id": "365e7a4f",
   "metadata": {},
   "outputs": [
    {
     "name": "stdout",
     "output_type": "stream",
     "text": [
      "\r",
      "Progress: |--------------------------------------------------| 0.0% | 00:00:00  \r",
      "\r",
      "Progress: |████████------------------------------------------| 16.7% | 00:00:00  \r",
      "\r",
      "Progress: |████████████████----------------------------------| 33.3% | 00:00:00  \r",
      "\r",
      "Progress: |█████████████████████████-------------------------| 50.0% | 00:00:00  \r",
      "\r",
      "Progress: |█████████████████████████████████-----------------| 66.7% | 00:00:00  \r",
      "\r",
      "Progress: |█████████████████████████████████████████---------| 83.3% | 00:00:00  \r",
      "\r",
      "Progress: |██████████████████████████████████████████████████| 100.0% | 00:00:00  \r",
      "\r",
      "Progress: |██████████████████████████████████████████████████| 100.0% | 00:00:00  Completed!\r",
      "\r\n"
     ]
    },
    {
     "data": {
      "text/html": [
       "<div>\n",
       "<style scoped>\n",
       "    .dataframe tbody tr th:only-of-type {\n",
       "        vertical-align: middle;\n",
       "    }\n",
       "\n",
       "    .dataframe tbody tr th {\n",
       "        vertical-align: top;\n",
       "    }\n",
       "\n",
       "    .dataframe thead th {\n",
       "        text-align: right;\n",
       "    }\n",
       "</style>\n",
       "<table border=\"1\" class=\"dataframe\">\n",
       "  <thead>\n",
       "    <tr style=\"text-align: right;\">\n",
       "      <th></th>\n",
       "      <th>a</th>\n",
       "      <th>b</th>\n",
       "      <th>c</th>\n",
       "      <th>b2</th>\n",
       "      <th>c2</th>\n",
       "      <th>a2</th>\n",
       "    </tr>\n",
       "  </thead>\n",
       "  <tbody>\n",
       "    <tr>\n",
       "      <th>0</th>\n",
       "      <td>0</td>\n",
       "      <td>1</td>\n",
       "      <td>2</td>\n",
       "      <td>2</td>\n",
       "      <td>4</td>\n",
       "      <td>0</td>\n",
       "    </tr>\n",
       "    <tr>\n",
       "      <th>1</th>\n",
       "      <td>3</td>\n",
       "      <td>4</td>\n",
       "      <td>5</td>\n",
       "      <td>8</td>\n",
       "      <td>10</td>\n",
       "      <td>6</td>\n",
       "    </tr>\n",
       "    <tr>\n",
       "      <th>2</th>\n",
       "      <td>6</td>\n",
       "      <td>7</td>\n",
       "      <td>8</td>\n",
       "      <td>14</td>\n",
       "      <td>16</td>\n",
       "      <td>12</td>\n",
       "    </tr>\n",
       "  </tbody>\n",
       "</table>\n",
       "</div>"
      ],
      "text/plain": [
       "   a  b  c  b2  c2  a2\n",
       "0  0  1  2   2   4   0\n",
       "1  3  4  5   8  10   6\n",
       "2  6  7  8  14  16  12"
      ]
     },
     "execution_count": 8,
     "metadata": {},
     "output_type": "execute_result"
    }
   ],
   "source": [
    "futures.get()"
   ]
  },
  {
   "cell_type": "code",
   "execution_count": 9,
   "id": "9ec6ecd4",
   "metadata": {},
   "outputs": [
    {
     "data": {
      "text/plain": [
       "{3: array(3.), 4: array(4.), 5: array(5.), 'b2': None, 'c2': None, 'a2': None}"
      ]
     },
     "execution_count": 9,
     "metadata": {},
     "output_type": "execute_result"
    }
   ],
   "source": [
    "futures.results"
   ]
  }
 ],
 "metadata": {
  "kernelspec": {
   "display_name": "Python 3",
   "language": "python",
   "name": "python3"
  },
  "language_info": {
   "codemirror_mode": {
    "name": "ipython",
    "version": 3
   },
   "file_extension": ".py",
   "mimetype": "text/x-python",
   "name": "python",
   "nbconvert_exporter": "python",
   "pygments_lexer": "ipython3",
   "version": "3.9.5"
  }
 },
 "nbformat": 4,
 "nbformat_minor": 5
}
