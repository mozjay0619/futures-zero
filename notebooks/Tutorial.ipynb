{
 "cells": [
  {
   "cell_type": "markdown",
   "id": "07939867",
   "metadata": {},
   "source": [
    "# 1. Install futures-zero"
   ]
  },
  {
   "cell_type": "code",
   "execution_count": 1,
   "id": "4d5491fe",
   "metadata": {},
   "outputs": [],
   "source": [
    "# ! pip3 install futures-zero --upgrade"
   ]
  },
  {
   "cell_type": "markdown",
   "id": "c2355bad",
   "metadata": {},
   "source": [
    "# 2. Import packages"
   ]
  },
  {
   "cell_type": "code",
   "execution_count": 2,
   "id": "2106101c",
   "metadata": {},
   "outputs": [],
   "source": [
    "import time\n",
    "import numpy as np\n",
    "import pandas as pd\n",
    "\n",
    "# Import Futures class\n",
    "from futures_zero import Futures"
   ]
  },
  {
   "cell_type": "markdown",
   "id": "0d8be101",
   "metadata": {},
   "source": [
    "# 3. Basic parallelization using `submit`"
   ]
  },
  {
   "cell_type": "code",
   "execution_count": 3,
   "id": "eca5607d",
   "metadata": {},
   "outputs": [],
   "source": [
    "def my_method(elem):\n",
    "    # do some work\n",
    "    time.sleep(0.5)\n",
    "    return elem"
   ]
  },
  {
   "cell_type": "code",
   "execution_count": 4,
   "id": "07bb78c6",
   "metadata": {},
   "outputs": [],
   "source": [
    "futures = Futures()"
   ]
  },
  {
   "cell_type": "code",
   "execution_count": 5,
   "id": "65da882e",
   "metadata": {},
   "outputs": [],
   "source": [
    "for i in range(10):\n",
    "    futures.submit(my_method, i)"
   ]
  },
  {
   "cell_type": "code",
   "execution_count": 6,
   "id": "3fcb41a1",
   "metadata": {},
   "outputs": [
    {
     "name": "stdout",
     "output_type": "stream",
     "text": [
      "Progress: |██████████████████████████████████████████████████| 100.0% | 00:00:00  Completed!\n"
     ]
    },
    {
     "data": {
      "text/plain": [
       "[0, 1, 3, 2, 4, 5, 6, 7, 8, 9]"
      ]
     },
     "execution_count": 6,
     "metadata": {},
     "output_type": "execute_result"
    }
   ],
   "source": [
    "futures.get()"
   ]
  },
  {
   "cell_type": "code",
   "execution_count": 7,
   "id": "70415dea",
   "metadata": {},
   "outputs": [
    {
     "data": {
      "text/plain": [
       "{0: 0, 1: 1, 3: 3, 2: 2, 4: 4, 5: 5, 6: 6, 7: 7, 8: 8, 9: 9}"
      ]
     },
     "execution_count": 7,
     "metadata": {},
     "output_type": "execute_result"
    }
   ],
   "source": [
    "# The computation result is saved in a dictionary. But the key of the dictionary is the integer order of the task. If\n",
    "# you wish to manipulate the keys, use submit_keyed below.\n",
    "futures.results"
   ]
  },
  {
   "cell_type": "code",
   "execution_count": 8,
   "id": "0ae922b0",
   "metadata": {},
   "outputs": [
    {
     "data": {
      "text/plain": [
       "{}"
      ]
     },
     "execution_count": 8,
     "metadata": {},
     "output_type": "execute_result"
    }
   ],
   "source": [
    "# Any exception that has been caught will be recorded in the ``errors`` field.\n",
    "futures.errors"
   ]
  },
  {
   "cell_type": "markdown",
   "id": "08d75085",
   "metadata": {},
   "source": [
    "# 4. Submit with keys using `submit_keyed`\n",
    "\n",
    "The first argument for `submit_keyed` must be the key for the results dictionary. "
   ]
  },
  {
   "cell_type": "code",
   "execution_count": 9,
   "id": "0192cdbe",
   "metadata": {},
   "outputs": [],
   "source": [
    "def my_method(elem):\n",
    "    # do some work\n",
    "    time.sleep(0.5)\n",
    "    return elem"
   ]
  },
  {
   "cell_type": "code",
   "execution_count": 10,
   "id": "b83a613e",
   "metadata": {},
   "outputs": [],
   "source": [
    "futures = Futures()"
   ]
  },
  {
   "cell_type": "code",
   "execution_count": 11,
   "id": "3b59cb03",
   "metadata": {},
   "outputs": [],
   "source": [
    "for i, key in enumerate(['a', 'b', 'c', 'd']):\n",
    "    futures.submit_keyed(key, my_method, i)"
   ]
  },
  {
   "cell_type": "code",
   "execution_count": 12,
   "id": "1e62957f",
   "metadata": {},
   "outputs": [
    {
     "name": "stdout",
     "output_type": "stream",
     "text": [
      "Progress: |██████████████████████████████████████████████████| 100.0% | 00:00:00  Completed!\n"
     ]
    },
    {
     "data": {
      "text/plain": [
       "[2, 0, 1, 3]"
      ]
     },
     "execution_count": 12,
     "metadata": {},
     "output_type": "execute_result"
    }
   ],
   "source": [
    "futures.get()"
   ]
  },
  {
   "cell_type": "code",
   "execution_count": 13,
   "id": "b8190125",
   "metadata": {},
   "outputs": [
    {
     "data": {
      "text/plain": [
       "{'c': 2, 'a': 0, 'b': 1, 'd': 3}"
      ]
     },
     "execution_count": 13,
     "metadata": {},
     "output_type": "execute_result"
    }
   ],
   "source": [
    "futures.results"
   ]
  },
  {
   "cell_type": "markdown",
   "id": "bbd554fc",
   "metadata": {},
   "source": [
    "# 5. Error handling: method exception"
   ]
  },
  {
   "cell_type": "code",
   "execution_count": 14,
   "id": "83c1dabc",
   "metadata": {},
   "outputs": [],
   "source": [
    "def my_method(elem):\n",
    "    # raise some error\n",
    "    print('Trying!')\n",
    "    1/0\n",
    "    return elem"
   ]
  },
  {
   "cell_type": "code",
   "execution_count": 15,
   "id": "3a7988dd",
   "metadata": {},
   "outputs": [],
   "source": [
    "futures = Futures(n_retries=2)"
   ]
  },
  {
   "cell_type": "code",
   "execution_count": 16,
   "id": "abd3952d",
   "metadata": {},
   "outputs": [
    {
     "name": "stdout",
     "output_type": "stream",
     "text": [
      "Trying!\n"
     ]
    },
    {
     "name": "stderr",
     "output_type": "stream",
     "text": [
      "/users/jaykim/codes/futures-zero/src/futures_zero/worker.py:276: TASK_FAILED: task id 0 failed due to: ZeroDivisionError('division by zero')\n",
      "  warnings.warn(warning_msg, TASK_FAILED)\n"
     ]
    },
    {
     "name": "stdout",
     "output_type": "stream",
     "text": [
      "Trying!\n"
     ]
    },
    {
     "name": "stderr",
     "output_type": "stream",
     "text": [
      "/users/jaykim/codes/futures-zero/src/futures_zero/worker.py:276: TASK_FAILED: task id 0 failed due to: ZeroDivisionError('division by zero')\n",
      "  warnings.warn(warning_msg, TASK_FAILED)\n"
     ]
    },
    {
     "name": "stdout",
     "output_type": "stream",
     "text": [
      "Trying!\n"
     ]
    },
    {
     "name": "stderr",
     "output_type": "stream",
     "text": [
      "/users/jaykim/codes/futures-zero/src/futures_zero/worker.py:276: TASK_FAILED: task id 0 failed due to: ZeroDivisionError('division by zero')\n",
      "  warnings.warn(warning_msg, TASK_FAILED)\n"
     ]
    }
   ],
   "source": [
    "futures.submit(my_method, 0)"
   ]
  },
  {
   "cell_type": "code",
   "execution_count": 17,
   "id": "d903f4ff",
   "metadata": {},
   "outputs": [
    {
     "name": "stdout",
     "output_type": "stream",
     "text": [
      "\r",
      "Progress: |--------------------------------------------------| 0.0% | 00:00:00  \r"
     ]
    },
    {
     "data": {
      "text/plain": [
       "[]"
      ]
     },
     "execution_count": 17,
     "metadata": {},
     "output_type": "execute_result"
    }
   ],
   "source": [
    "futures.get()"
   ]
  },
  {
   "cell_type": "code",
   "execution_count": 18,
   "id": "923b3d14",
   "metadata": {},
   "outputs": [
    {
     "data": {
      "text/plain": [
       "{}"
      ]
     },
     "execution_count": 18,
     "metadata": {},
     "output_type": "execute_result"
    }
   ],
   "source": [
    "futures.results"
   ]
  },
  {
   "cell_type": "code",
   "execution_count": 19,
   "id": "d283d722",
   "metadata": {},
   "outputs": [
    {
     "data": {
      "text/plain": [
       "{0: \"ZeroDivisionError('division by zero')\"}"
      ]
     },
     "execution_count": 19,
     "metadata": {},
     "output_type": "execute_result"
    }
   ],
   "source": [
    "futures.errors"
   ]
  },
  {
   "cell_type": "markdown",
   "id": "1f3a44ff",
   "metadata": {},
   "source": [
    "# 6. Error handling: worker death"
   ]
  },
  {
   "cell_type": "code",
   "execution_count": 20,
   "id": "0bf14328",
   "metadata": {},
   "outputs": [],
   "source": [
    "def my_method(elem):\n",
    "    print('Trying!')\n",
    "    import sys\n",
    "    sys.exit()\n",
    "    return elem"
   ]
  },
  {
   "cell_type": "code",
   "execution_count": 21,
   "id": "352569cd",
   "metadata": {},
   "outputs": [],
   "source": [
    "futures = Futures(n_retries=2)"
   ]
  },
  {
   "cell_type": "code",
   "execution_count": 22,
   "id": "92dca66a",
   "metadata": {},
   "outputs": [
    {
     "name": "stdout",
     "output_type": "stream",
     "text": [
      "Trying!\n",
      "Trying!\n",
      "Trying!\n"
     ]
    }
   ],
   "source": [
    "futures.submit(my_method, 0)"
   ]
  },
  {
   "cell_type": "code",
   "execution_count": 23,
   "id": "9a1e80f2",
   "metadata": {},
   "outputs": [
    {
     "name": "stdout",
     "output_type": "stream",
     "text": [
      "\r",
      "Progress: |--------------------------------------------------| 0.0% | 00:00:00  \r"
     ]
    },
    {
     "name": "stderr",
     "output_type": "stream",
     "text": [
      "/users/jaykim/codes/futures-zero/src/futures_zero/futures.py:824: WORKER_FAILED: task id 0 failed due to: worker death\n",
      "  warnings.warn(warning_msg, WORKER_FAILED)\n"
     ]
    },
    {
     "data": {
      "text/plain": [
       "[]"
      ]
     },
     "execution_count": 23,
     "metadata": {},
     "output_type": "execute_result"
    }
   ],
   "source": [
    "futures.get()"
   ]
  },
  {
   "cell_type": "code",
   "execution_count": 24,
   "id": "ecf9dddf",
   "metadata": {},
   "outputs": [
    {
     "data": {
      "text/plain": [
       "{}"
      ]
     },
     "execution_count": 24,
     "metadata": {},
     "output_type": "execute_result"
    }
   ],
   "source": [
    "futures.results"
   ]
  },
  {
   "cell_type": "code",
   "execution_count": 25,
   "id": "a102440a",
   "metadata": {},
   "outputs": [
    {
     "data": {
      "text/plain": [
       "{0: 'Premature worker death'}"
      ]
     },
     "execution_count": 25,
     "metadata": {},
     "output_type": "execute_result"
    }
   ],
   "source": [
    "futures.errors"
   ]
  },
  {
   "cell_type": "markdown",
   "id": "5fd56227",
   "metadata": {},
   "source": [
    "# 7. Submit stateful methods using ``submit_stateful``\n",
    "\n",
    "You can directly control the local data by declaring them at the start of each subprocess."
   ]
  },
  {
   "cell_type": "code",
   "execution_count": 26,
   "id": "518ea48d",
   "metadata": {},
   "outputs": [],
   "source": [
    "from futures_zero import BaseWorker\n",
    "\n",
    "class Worker(BaseWorker):\n",
    "    \n",
    "    def __init__(self, *args, **kwargs):\n",
    "        super(Worker, self).__init__(*args, **kwargs)\n",
    "        \n",
    "        self.local_data = np.arange(10)"
   ]
  },
  {
   "cell_type": "code",
   "execution_count": 27,
   "id": "c2a5d41d",
   "metadata": {},
   "outputs": [],
   "source": [
    "futures = Futures(worker=Worker)"
   ]
  },
  {
   "cell_type": "code",
   "execution_count": 28,
   "id": "9110dfb3",
   "metadata": {},
   "outputs": [],
   "source": [
    "# When using the ``submit_stateful`` method, the user function must have a signature that has \"self\" as the first\n",
    "# positional argument. This self is the ``WorkerProcess`` Process subclass. But since we've subclassed the \n",
    "# ``WorkerProcess`` (\"BaseWorker\" is an alias for that class) and created the ``local_data`` field, the stateful\n",
    "# method has access to it. The ``local_data`` is created in each of the worker process.\n",
    "\n",
    "def my_method(self, i):\n",
    "    \n",
    "    return self.local_data[i]"
   ]
  },
  {
   "cell_type": "code",
   "execution_count": 29,
   "id": "d1522da1",
   "metadata": {
    "scrolled": true
   },
   "outputs": [],
   "source": [
    "for i in range(10):\n",
    "    futures.submit_stateful(my_method, i)"
   ]
  },
  {
   "cell_type": "code",
   "execution_count": 30,
   "id": "3baa4d43",
   "metadata": {},
   "outputs": [
    {
     "name": "stdout",
     "output_type": "stream",
     "text": [
      "\r",
      "Progress: |--------------------------------------------------| 0.0% | 00:00:00  \r",
      "\r",
      "Progress: |█████---------------------------------------------| 10.0% | 00:00:00  \r",
      "\r",
      "Progress: |██████████----------------------------------------| 20.0% | 00:00:00  \r",
      "\r",
      "Progress: |███████████████-----------------------------------| 30.0% | 00:00:00  \r",
      "\r",
      "Progress: |████████████████████------------------------------| 40.0% | 00:00:00  \r",
      "\r",
      "Progress: |█████████████████████████-------------------------| 50.0% | 00:00:00  \r",
      "\r",
      "Progress: |██████████████████████████████--------------------| 60.0% | 00:00:00  \r",
      "\r",
      "Progress: |███████████████████████████████████---------------| 70.0% | 00:00:00  \r",
      "\r",
      "Progress: |████████████████████████████████████████----------| 80.0% | 00:00:00  \r",
      "\r",
      "Progress: |█████████████████████████████████████████████-----| 90.0% | 00:00:00  \r",
      "\r",
      "Progress: |██████████████████████████████████████████████████| 100.0% | 00:00:00  \r",
      "\r",
      "Progress: |██████████████████████████████████████████████████| 100.0% | 00:00:00  Completed!\r",
      "\r\n"
     ]
    },
    {
     "data": {
      "text/plain": [
       "[array(1),\n",
       " array(0),\n",
       " array(2),\n",
       " array(3),\n",
       " array(4),\n",
       " array(6),\n",
       " array(7),\n",
       " array(8),\n",
       " array(5),\n",
       " array(9)]"
      ]
     },
     "execution_count": 30,
     "metadata": {},
     "output_type": "execute_result"
    }
   ],
   "source": [
    "futures.get()"
   ]
  },
  {
   "cell_type": "markdown",
   "id": "9a455aab",
   "metadata": {},
   "source": [
    "# 8. Passing in arguments for WorkerProcess when using ``submit_stateful``"
   ]
  },
  {
   "cell_type": "code",
   "execution_count": 31,
   "id": "ee491ed8",
   "metadata": {},
   "outputs": [],
   "source": [
    "# You can also pass in arguments directly to the WorkerProcesses\n",
    "class DataProducer():\n",
    "    \n",
    "    def get_data(self):\n",
    "        return np.arange(10)\n",
    "\n",
    "data_producer = DataProducer()"
   ]
  },
  {
   "cell_type": "code",
   "execution_count": 32,
   "id": "a0b6804a",
   "metadata": {},
   "outputs": [],
   "source": [
    "from futures_zero import BaseWorker\n",
    "\n",
    "class Worker(BaseWorker):\n",
    "    \n",
    "    def __init__(self, data_producer, *args, **kwargs):\n",
    "        super(Worker, self).__init__(*args, **kwargs)\n",
    "        \n",
    "        self.local_data = data_producer.get_data()"
   ]
  },
  {
   "cell_type": "code",
   "execution_count": 33,
   "id": "ccf2cd0c",
   "metadata": {},
   "outputs": [],
   "source": [
    "# Since Worker needs to be passed in as a keyword argument, any arguments meant for the worker must also be keyword\n",
    "# arguments.\n",
    "futures = Futures(worker=Worker, data_producer=data_producer)"
   ]
  },
  {
   "cell_type": "code",
   "execution_count": 34,
   "id": "93d3e260",
   "metadata": {},
   "outputs": [],
   "source": [
    "# When using the ``submit_stateful`` method, the user function must have a signature that has \"self\" as the first\n",
    "# positional argument. This self is the ``WorkerProcess`` Process subclass. But since we've subclassed the \n",
    "# ``WorkerProcess`` (\"BaseWorker\" is an alias for that class) and created the ``local_data`` field, the stateful\n",
    "# method has access to it. The ``local_data`` is created in each of the worker process.\n",
    "\n",
    "def my_method(self, i):\n",
    "    \n",
    "    return self.local_data[i]"
   ]
  },
  {
   "cell_type": "code",
   "execution_count": 35,
   "id": "24545a94",
   "metadata": {},
   "outputs": [],
   "source": [
    "for i in range(10):\n",
    "    futures.submit_stateful(my_method, i)"
   ]
  },
  {
   "cell_type": "code",
   "execution_count": 36,
   "id": "82255b66",
   "metadata": {},
   "outputs": [
    {
     "name": "stdout",
     "output_type": "stream",
     "text": [
      "\r",
      "Progress: |--------------------------------------------------| 0.0% | 00:00:00  \r",
      "\r",
      "Progress: |█████---------------------------------------------| 10.0% | 00:00:00  \r",
      "\r",
      "Progress: |██████████----------------------------------------| 20.0% | 00:00:00  \r",
      "\r",
      "Progress: |███████████████-----------------------------------| 30.0% | 00:00:00  \r",
      "\r",
      "Progress: |████████████████████------------------------------| 40.0% | 00:00:00  \r",
      "\r",
      "Progress: |█████████████████████████-------------------------| 50.0% | 00:00:00  \r",
      "\r",
      "Progress: |██████████████████████████████--------------------| 60.0% | 00:00:00  \r",
      "\r",
      "Progress: |███████████████████████████████████---------------| 70.0% | 00:00:00  \r",
      "\r",
      "Progress: |████████████████████████████████████████----------| 80.0% | 00:00:00  \r",
      "\r",
      "Progress: |█████████████████████████████████████████████-----| 90.0% | 00:00:00  \r",
      "\r",
      "Progress: |██████████████████████████████████████████████████| 100.0% | 00:00:00  \r",
      "\r",
      "Progress: |██████████████████████████████████████████████████| 100.0% | 00:00:00  Completed!\r",
      "\r\n"
     ]
    },
    {
     "data": {
      "text/plain": [
       "[array(0),\n",
       " array(1),\n",
       " array(2),\n",
       " array(3),\n",
       " array(4),\n",
       " array(6),\n",
       " array(7),\n",
       " array(5),\n",
       " array(8),\n",
       " array(9)]"
      ]
     },
     "execution_count": 36,
     "metadata": {},
     "output_type": "execute_result"
    }
   ],
   "source": [
    "futures.get()"
   ]
  },
  {
   "cell_type": "markdown",
   "id": "fc7443c4",
   "metadata": {},
   "source": [
    "# 9. Submit stateful methods with keys using ``submit_stateful_keyed``"
   ]
  },
  {
   "cell_type": "code",
   "execution_count": 37,
   "id": "20247e21",
   "metadata": {},
   "outputs": [],
   "source": [
    "from futures_zero import BaseWorker\n",
    "\n",
    "class Worker(BaseWorker):\n",
    "    \n",
    "    def __init__(self, *args, **kwargs):\n",
    "        super(Worker, self).__init__(*args, **kwargs)\n",
    "        \n",
    "        self.local_data = np.arange(10)"
   ]
  },
  {
   "cell_type": "code",
   "execution_count": 38,
   "id": "7d87c28e",
   "metadata": {},
   "outputs": [],
   "source": [
    "futures = Futures(worker=Worker)"
   ]
  },
  {
   "cell_type": "code",
   "execution_count": 39,
   "id": "c2aa944f",
   "metadata": {},
   "outputs": [],
   "source": [
    "def my_method(self, i):\n",
    "    \n",
    "    return self.local_data[i]"
   ]
  },
  {
   "cell_type": "code",
   "execution_count": 40,
   "id": "5732bb15",
   "metadata": {},
   "outputs": [],
   "source": [
    "for key in ['a', 'b', 'c', 'd']:\n",
    "    \n",
    "    futures.submit_stateful_keyed(key, my_method, i)"
   ]
  },
  {
   "cell_type": "code",
   "execution_count": 41,
   "id": "e676d5ec",
   "metadata": {},
   "outputs": [
    {
     "name": "stdout",
     "output_type": "stream",
     "text": [
      "\r",
      "Progress: |--------------------------------------------------| 0.0% | 00:00:00  \r",
      "\r",
      "Progress: |████████████--------------------------------------| 25.0% | 00:00:00  \r",
      "\r",
      "Progress: |█████████████████████████-------------------------| 50.0% | 00:00:00  \r",
      "\r",
      "Progress: |█████████████████████████████████████-------------| 75.0% | 00:00:00  \r",
      "\r",
      "Progress: |██████████████████████████████████████████████████| 100.0% | 00:00:00  \r",
      "\r",
      "Progress: |██████████████████████████████████████████████████| 100.0% | 00:00:00  Completed!\r",
      "\r\n"
     ]
    },
    {
     "data": {
      "text/plain": [
       "[array(9), array(9), array(9), array(9)]"
      ]
     },
     "execution_count": 41,
     "metadata": {},
     "output_type": "execute_result"
    }
   ],
   "source": [
    "futures.get()"
   ]
  },
  {
   "cell_type": "code",
   "execution_count": 42,
   "id": "9285f347",
   "metadata": {},
   "outputs": [
    {
     "data": {
      "text/plain": [
       "{'a': array(9), 'b': array(9), 'c': array(9), 'd': array(9)}"
      ]
     },
     "execution_count": 42,
     "metadata": {},
     "output_type": "execute_result"
    }
   ],
   "source": [
    "futures.results"
   ]
  },
  {
   "cell_type": "markdown",
   "id": "7ece61bf",
   "metadata": {},
   "source": [
    "# 10. Parallel process Pandas dataframe using `apply_to` and `apply`\n",
    "\n",
    "When using ``apply``, the user function must have in its signature the dataframe as its first positional argument."
   ]
  },
  {
   "cell_type": "code",
   "execution_count": 43,
   "id": "404d50a3",
   "metadata": {},
   "outputs": [],
   "source": [
    "futures = Futures()"
   ]
  },
  {
   "cell_type": "code",
   "execution_count": 44,
   "id": "06ea98d6",
   "metadata": {},
   "outputs": [],
   "source": [
    "example_df = pd.DataFrame(np.arange(9).reshape(3, 3), columns=['a', 'b', 'c'])"
   ]
  },
  {
   "cell_type": "code",
   "execution_count": 45,
   "id": "a959588e",
   "metadata": {},
   "outputs": [],
   "source": [
    "# Register the dataframe to process.\n",
    "futures.apply_to(example_df)"
   ]
  },
  {
   "cell_type": "code",
   "execution_count": 46,
   "id": "a6d76a2e",
   "metadata": {},
   "outputs": [],
   "source": [
    "def my_method(df, col):\n",
    "    return df[col].mean()"
   ]
  },
  {
   "cell_type": "code",
   "execution_count": 47,
   "id": "6c17c216",
   "metadata": {},
   "outputs": [],
   "source": [
    "for elem in ['a', 'b', 'c']:\n",
    "    futures.apply(my_method, elem)"
   ]
  },
  {
   "cell_type": "code",
   "execution_count": 48,
   "id": "7e42b8c3",
   "metadata": {},
   "outputs": [
    {
     "name": "stdout",
     "output_type": "stream",
     "text": [
      "Progress: |██████████████████████████████████████████████████| 100.0% | 00:00:00  Completed!\n"
     ]
    },
    {
     "data": {
      "text/html": [
       "<div>\n",
       "<style scoped>\n",
       "    .dataframe tbody tr th:only-of-type {\n",
       "        vertical-align: middle;\n",
       "    }\n",
       "\n",
       "    .dataframe tbody tr th {\n",
       "        vertical-align: top;\n",
       "    }\n",
       "\n",
       "    .dataframe thead th {\n",
       "        text-align: right;\n",
       "    }\n",
       "</style>\n",
       "<table border=\"1\" class=\"dataframe\">\n",
       "  <thead>\n",
       "    <tr style=\"text-align: right;\">\n",
       "      <th></th>\n",
       "      <th>a</th>\n",
       "      <th>b</th>\n",
       "      <th>c</th>\n",
       "    </tr>\n",
       "  </thead>\n",
       "  <tbody>\n",
       "    <tr>\n",
       "      <th>0</th>\n",
       "      <td>0</td>\n",
       "      <td>1</td>\n",
       "      <td>2</td>\n",
       "    </tr>\n",
       "    <tr>\n",
       "      <th>1</th>\n",
       "      <td>3</td>\n",
       "      <td>4</td>\n",
       "      <td>5</td>\n",
       "    </tr>\n",
       "    <tr>\n",
       "      <th>2</th>\n",
       "      <td>6</td>\n",
       "      <td>7</td>\n",
       "      <td>8</td>\n",
       "    </tr>\n",
       "  </tbody>\n",
       "</table>\n",
       "</div>"
      ],
      "text/plain": [
       "   a  b  c\n",
       "0  0  1  2\n",
       "1  3  4  5\n",
       "2  6  7  8"
      ]
     },
     "execution_count": 48,
     "metadata": {},
     "output_type": "execute_result"
    }
   ],
   "source": [
    "futures.get()"
   ]
  },
  {
   "cell_type": "code",
   "execution_count": 49,
   "id": "5ec7a63e",
   "metadata": {},
   "outputs": [
    {
     "data": {
      "text/plain": [
       "{0: array(3.), 1: array(4.), 2: array(5.)}"
      ]
     },
     "execution_count": 49,
     "metadata": {},
     "output_type": "execute_result"
    }
   ],
   "source": [
    "futures.results"
   ]
  },
  {
   "cell_type": "markdown",
   "id": "e77cc7f3",
   "metadata": {},
   "source": [
    "# 11. Apply with keys using `apply_keyed`\n",
    "\n",
    "The first argument to `apply_keyed` is the key of for the results dictionary (same as `submit_keyed`)"
   ]
  },
  {
   "cell_type": "code",
   "execution_count": 50,
   "id": "7211092e",
   "metadata": {},
   "outputs": [],
   "source": [
    "futures = Futures()"
   ]
  },
  {
   "cell_type": "code",
   "execution_count": 51,
   "id": "0e8beb32",
   "metadata": {},
   "outputs": [],
   "source": [
    "example_df = pd.DataFrame(np.arange(9).reshape(3, 3), columns=['a', 'b', 'c'])"
   ]
  },
  {
   "cell_type": "code",
   "execution_count": 52,
   "id": "53774ce2",
   "metadata": {},
   "outputs": [],
   "source": [
    "# Register the dataframe to process.\n",
    "futures.apply_to(example_df)"
   ]
  },
  {
   "cell_type": "code",
   "execution_count": 53,
   "id": "00546bfc",
   "metadata": {},
   "outputs": [],
   "source": [
    "def my_method(df, col):\n",
    "    return df[col].mean()"
   ]
  },
  {
   "cell_type": "code",
   "execution_count": 54,
   "id": "bfdc01a4",
   "metadata": {},
   "outputs": [],
   "source": [
    "for elem in ['a', 'b', 'c']:\n",
    "    futures.apply_keyed(elem, my_method, elem)"
   ]
  },
  {
   "cell_type": "code",
   "execution_count": 55,
   "id": "6d3d3d81",
   "metadata": {},
   "outputs": [
    {
     "name": "stdout",
     "output_type": "stream",
     "text": [
      "Progress: |██████████████████████████████████████████████████| 100.0% | 00:00:00  Completed!\n"
     ]
    },
    {
     "data": {
      "text/html": [
       "<div>\n",
       "<style scoped>\n",
       "    .dataframe tbody tr th:only-of-type {\n",
       "        vertical-align: middle;\n",
       "    }\n",
       "\n",
       "    .dataframe tbody tr th {\n",
       "        vertical-align: top;\n",
       "    }\n",
       "\n",
       "    .dataframe thead th {\n",
       "        text-align: right;\n",
       "    }\n",
       "</style>\n",
       "<table border=\"1\" class=\"dataframe\">\n",
       "  <thead>\n",
       "    <tr style=\"text-align: right;\">\n",
       "      <th></th>\n",
       "      <th>a</th>\n",
       "      <th>b</th>\n",
       "      <th>c</th>\n",
       "    </tr>\n",
       "  </thead>\n",
       "  <tbody>\n",
       "    <tr>\n",
       "      <th>0</th>\n",
       "      <td>0</td>\n",
       "      <td>1</td>\n",
       "      <td>2</td>\n",
       "    </tr>\n",
       "    <tr>\n",
       "      <th>1</th>\n",
       "      <td>3</td>\n",
       "      <td>4</td>\n",
       "      <td>5</td>\n",
       "    </tr>\n",
       "    <tr>\n",
       "      <th>2</th>\n",
       "      <td>6</td>\n",
       "      <td>7</td>\n",
       "      <td>8</td>\n",
       "    </tr>\n",
       "  </tbody>\n",
       "</table>\n",
       "</div>"
      ],
      "text/plain": [
       "   a  b  c\n",
       "0  0  1  2\n",
       "1  3  4  5\n",
       "2  6  7  8"
      ]
     },
     "execution_count": 55,
     "metadata": {},
     "output_type": "execute_result"
    }
   ],
   "source": [
    "futures.get()"
   ]
  },
  {
   "cell_type": "code",
   "execution_count": 56,
   "id": "4172dc1e",
   "metadata": {},
   "outputs": [
    {
     "data": {
      "text/plain": [
       "{'a': array(3.), 'c': array(5.), 'b': array(4.)}"
      ]
     },
     "execution_count": 56,
     "metadata": {},
     "output_type": "execute_result"
    }
   ],
   "source": [
    "futures.results"
   ]
  },
  {
   "cell_type": "markdown",
   "id": "d3c6f8d6",
   "metadata": {},
   "source": [
    "# 12. Append new columns using `capply`\n",
    "\n",
    "When using the ``capply``, the user function return value must be a numpy ndarray with same length as the input dataframe. Also, you must pass in the key as you would with `apply_keyed`, except that this key will be used as the name of the new column."
   ]
  },
  {
   "cell_type": "code",
   "execution_count": 57,
   "id": "3a7c994c",
   "metadata": {},
   "outputs": [],
   "source": [
    "futures = Futures()"
   ]
  },
  {
   "cell_type": "code",
   "execution_count": 58,
   "id": "05b7cbc4",
   "metadata": {},
   "outputs": [],
   "source": [
    "example_df = pd.DataFrame(np.arange(9).reshape(3, 3), columns=['a', 'b', 'c'])"
   ]
  },
  {
   "cell_type": "code",
   "execution_count": 59,
   "id": "2ae46fff",
   "metadata": {},
   "outputs": [],
   "source": [
    "# Register the dataframe to process.\n",
    "futures.apply_to(example_df)"
   ]
  },
  {
   "cell_type": "code",
   "execution_count": 60,
   "id": "190e256f",
   "metadata": {},
   "outputs": [],
   "source": [
    "def my_method(df, col):\n",
    "    return df[col]*2"
   ]
  },
  {
   "cell_type": "code",
   "execution_count": 61,
   "id": "19a7b215",
   "metadata": {},
   "outputs": [],
   "source": [
    "df_columns = ['a', 'b', 'c']\n",
    "new_columns = ['a2', 'b2', 'c2']\n",
    "\n",
    "for i in range(3):\n",
    "    \n",
    "    # The first positional argument is the name of the new column.\n",
    "    futures.capply(new_columns[i], my_method, df_columns[i])"
   ]
  },
  {
   "cell_type": "code",
   "execution_count": 62,
   "id": "e5e9004b",
   "metadata": {},
   "outputs": [
    {
     "name": "stdout",
     "output_type": "stream",
     "text": [
      "Progress: |██████████████████████████████████████████████████| 100.0% | 00:00:00  Completed!\n"
     ]
    },
    {
     "data": {
      "text/html": [
       "<div>\n",
       "<style scoped>\n",
       "    .dataframe tbody tr th:only-of-type {\n",
       "        vertical-align: middle;\n",
       "    }\n",
       "\n",
       "    .dataframe tbody tr th {\n",
       "        vertical-align: top;\n",
       "    }\n",
       "\n",
       "    .dataframe thead th {\n",
       "        text-align: right;\n",
       "    }\n",
       "</style>\n",
       "<table border=\"1\" class=\"dataframe\">\n",
       "  <thead>\n",
       "    <tr style=\"text-align: right;\">\n",
       "      <th></th>\n",
       "      <th>a</th>\n",
       "      <th>b</th>\n",
       "      <th>c</th>\n",
       "      <th>b2</th>\n",
       "      <th>c2</th>\n",
       "      <th>a2</th>\n",
       "    </tr>\n",
       "  </thead>\n",
       "  <tbody>\n",
       "    <tr>\n",
       "      <th>0</th>\n",
       "      <td>0</td>\n",
       "      <td>1</td>\n",
       "      <td>2</td>\n",
       "      <td>2</td>\n",
       "      <td>4</td>\n",
       "      <td>0</td>\n",
       "    </tr>\n",
       "    <tr>\n",
       "      <th>1</th>\n",
       "      <td>3</td>\n",
       "      <td>4</td>\n",
       "      <td>5</td>\n",
       "      <td>8</td>\n",
       "      <td>10</td>\n",
       "      <td>6</td>\n",
       "    </tr>\n",
       "    <tr>\n",
       "      <th>2</th>\n",
       "      <td>6</td>\n",
       "      <td>7</td>\n",
       "      <td>8</td>\n",
       "      <td>14</td>\n",
       "      <td>16</td>\n",
       "      <td>12</td>\n",
       "    </tr>\n",
       "  </tbody>\n",
       "</table>\n",
       "</div>"
      ],
      "text/plain": [
       "   a  b  c  b2  c2  a2\n",
       "0  0  1  2   2   4   0\n",
       "1  3  4  5   8  10   6\n",
       "2  6  7  8  14  16  12"
      ]
     },
     "execution_count": 62,
     "metadata": {},
     "output_type": "execute_result"
    }
   ],
   "source": [
    "futures.get()"
   ]
  },
  {
   "cell_type": "code",
   "execution_count": 63,
   "id": "471ce970",
   "metadata": {},
   "outputs": [
    {
     "data": {
      "text/plain": [
       "{'b2': None, 'c2': None, 'a2': None}"
      ]
     },
     "execution_count": 63,
     "metadata": {},
     "output_type": "execute_result"
    }
   ],
   "source": [
    "# If the results are appended to the dataframe, they are not saved in results dict.\n",
    "futures.results"
   ]
  },
  {
   "cell_type": "markdown",
   "id": "eebbc2bb",
   "metadata": {},
   "source": [
    "# 13. Appending multiple columns"
   ]
  },
  {
   "cell_type": "code",
   "execution_count": 64,
   "id": "f0ac600e",
   "metadata": {},
   "outputs": [],
   "source": [
    "futures = Futures()"
   ]
  },
  {
   "cell_type": "code",
   "execution_count": 65,
   "id": "fe877f14",
   "metadata": {},
   "outputs": [],
   "source": [
    "example_df = pd.DataFrame(np.arange(9).reshape(3, 3), columns=['a', 'b', 'c'])"
   ]
  },
  {
   "cell_type": "code",
   "execution_count": 66,
   "id": "669b99bc",
   "metadata": {},
   "outputs": [],
   "source": [
    "# Register the dataframe to process.\n",
    "futures.apply_to(example_df)"
   ]
  },
  {
   "cell_type": "code",
   "execution_count": 67,
   "id": "5a25237e",
   "metadata": {},
   "outputs": [],
   "source": [
    "def my_method(df, cols):\n",
    "    return df[cols]*2"
   ]
  },
  {
   "cell_type": "code",
   "execution_count": 68,
   "id": "940d8e3d",
   "metadata": {},
   "outputs": [
    {
     "data": {
      "text/html": [
       "<div>\n",
       "<style scoped>\n",
       "    .dataframe tbody tr th:only-of-type {\n",
       "        vertical-align: middle;\n",
       "    }\n",
       "\n",
       "    .dataframe tbody tr th {\n",
       "        vertical-align: top;\n",
       "    }\n",
       "\n",
       "    .dataframe thead th {\n",
       "        text-align: right;\n",
       "    }\n",
       "</style>\n",
       "<table border=\"1\" class=\"dataframe\">\n",
       "  <thead>\n",
       "    <tr style=\"text-align: right;\">\n",
       "      <th></th>\n",
       "      <th>a</th>\n",
       "      <th>b</th>\n",
       "    </tr>\n",
       "  </thead>\n",
       "  <tbody>\n",
       "    <tr>\n",
       "      <th>0</th>\n",
       "      <td>0</td>\n",
       "      <td>2</td>\n",
       "    </tr>\n",
       "    <tr>\n",
       "      <th>1</th>\n",
       "      <td>6</td>\n",
       "      <td>8</td>\n",
       "    </tr>\n",
       "    <tr>\n",
       "      <th>2</th>\n",
       "      <td>12</td>\n",
       "      <td>14</td>\n",
       "    </tr>\n",
       "  </tbody>\n",
       "</table>\n",
       "</div>"
      ],
      "text/plain": [
       "    a   b\n",
       "0   0   2\n",
       "1   6   8\n",
       "2  12  14"
      ]
     },
     "execution_count": 68,
     "metadata": {},
     "output_type": "execute_result"
    }
   ],
   "source": [
    "my_method(example_df, ['a', 'b'])"
   ]
  },
  {
   "cell_type": "code",
   "execution_count": 69,
   "id": "7864c480",
   "metadata": {},
   "outputs": [],
   "source": [
    "new_columns = ['a2', 'b2']"
   ]
  },
  {
   "cell_type": "code",
   "execution_count": 70,
   "id": "8af6970e",
   "metadata": {},
   "outputs": [],
   "source": [
    "futures.capply(new_columns, my_method, ['a', 'b'])"
   ]
  },
  {
   "cell_type": "code",
   "execution_count": 71,
   "id": "24f8afe2",
   "metadata": {},
   "outputs": [
    {
     "name": "stdout",
     "output_type": "stream",
     "text": [
      "Progress: |██████████████████████████████████████████████████| 100.0% | 00:00:00  Completed!\n"
     ]
    },
    {
     "data": {
      "text/html": [
       "<div>\n",
       "<style scoped>\n",
       "    .dataframe tbody tr th:only-of-type {\n",
       "        vertical-align: middle;\n",
       "    }\n",
       "\n",
       "    .dataframe tbody tr th {\n",
       "        vertical-align: top;\n",
       "    }\n",
       "\n",
       "    .dataframe thead th {\n",
       "        text-align: right;\n",
       "    }\n",
       "</style>\n",
       "<table border=\"1\" class=\"dataframe\">\n",
       "  <thead>\n",
       "    <tr style=\"text-align: right;\">\n",
       "      <th></th>\n",
       "      <th>a</th>\n",
       "      <th>b</th>\n",
       "      <th>c</th>\n",
       "      <th>a2</th>\n",
       "      <th>b2</th>\n",
       "    </tr>\n",
       "  </thead>\n",
       "  <tbody>\n",
       "    <tr>\n",
       "      <th>0</th>\n",
       "      <td>0</td>\n",
       "      <td>1</td>\n",
       "      <td>2</td>\n",
       "      <td>0</td>\n",
       "      <td>2</td>\n",
       "    </tr>\n",
       "    <tr>\n",
       "      <th>1</th>\n",
       "      <td>3</td>\n",
       "      <td>4</td>\n",
       "      <td>5</td>\n",
       "      <td>6</td>\n",
       "      <td>8</td>\n",
       "    </tr>\n",
       "    <tr>\n",
       "      <th>2</th>\n",
       "      <td>6</td>\n",
       "      <td>7</td>\n",
       "      <td>8</td>\n",
       "      <td>12</td>\n",
       "      <td>14</td>\n",
       "    </tr>\n",
       "  </tbody>\n",
       "</table>\n",
       "</div>"
      ],
      "text/plain": [
       "   a  b  c  a2  b2\n",
       "0  0  1  2   0   2\n",
       "1  3  4  5   6   8\n",
       "2  6  7  8  12  14"
      ]
     },
     "execution_count": 71,
     "metadata": {},
     "output_type": "execute_result"
    }
   ],
   "source": [
    "futures.get()"
   ]
  },
  {
   "cell_type": "code",
   "execution_count": 72,
   "id": "9ab5611f",
   "metadata": {},
   "outputs": [
    {
     "data": {
      "text/plain": [
       "{('a2', 'b2'): None}"
      ]
     },
     "execution_count": 72,
     "metadata": {},
     "output_type": "execute_result"
    }
   ],
   "source": [
    "futures.results"
   ]
  },
  {
   "cell_type": "markdown",
   "id": "5e8c4710",
   "metadata": {},
   "source": [
    "# 14. Using `apply` and `capply` together"
   ]
  },
  {
   "cell_type": "code",
   "execution_count": 73,
   "id": "3ce8eeca",
   "metadata": {},
   "outputs": [],
   "source": [
    "futures = Futures()"
   ]
  },
  {
   "cell_type": "code",
   "execution_count": 74,
   "id": "09c53f42",
   "metadata": {},
   "outputs": [],
   "source": [
    "example_df = pd.DataFrame(np.arange(9).reshape(3, 3), columns=['a', 'b', 'c'])"
   ]
  },
  {
   "cell_type": "code",
   "execution_count": 75,
   "id": "28114893",
   "metadata": {},
   "outputs": [],
   "source": [
    "# Register the dataframe to process.\n",
    "futures.apply_to(example_df)"
   ]
  },
  {
   "cell_type": "code",
   "execution_count": 76,
   "id": "6b273be0",
   "metadata": {},
   "outputs": [],
   "source": [
    "def my_method(df, col):\n",
    "    return df[col]*2\n",
    "\n",
    "def my_other_method(df, col):\n",
    "    return df[col].mean()"
   ]
  },
  {
   "cell_type": "code",
   "execution_count": 77,
   "id": "f7b05e9b",
   "metadata": {},
   "outputs": [],
   "source": [
    "df_columns = ['a', 'b', 'c']\n",
    "new_columns = ['a2', 'b2', 'c2']\n",
    "\n",
    "for i in range(3):\n",
    "    \n",
    "    futures.capply(new_columns[i], my_method, df_columns[i])\n",
    "    \n",
    "for i in range(3):\n",
    "    \n",
    "    futures.apply(my_other_method, df_columns[i])"
   ]
  },
  {
   "cell_type": "code",
   "execution_count": 78,
   "id": "29d2f350",
   "metadata": {},
   "outputs": [
    {
     "name": "stdout",
     "output_type": "stream",
     "text": [
      "Progress: |██████████████████████████████████████████████████| 100.0% | 00:00:00  Completed!\n"
     ]
    },
    {
     "data": {
      "text/html": [
       "<div>\n",
       "<style scoped>\n",
       "    .dataframe tbody tr th:only-of-type {\n",
       "        vertical-align: middle;\n",
       "    }\n",
       "\n",
       "    .dataframe tbody tr th {\n",
       "        vertical-align: top;\n",
       "    }\n",
       "\n",
       "    .dataframe thead th {\n",
       "        text-align: right;\n",
       "    }\n",
       "</style>\n",
       "<table border=\"1\" class=\"dataframe\">\n",
       "  <thead>\n",
       "    <tr style=\"text-align: right;\">\n",
       "      <th></th>\n",
       "      <th>a</th>\n",
       "      <th>b</th>\n",
       "      <th>c</th>\n",
       "      <th>a2</th>\n",
       "      <th>b2</th>\n",
       "      <th>c2</th>\n",
       "    </tr>\n",
       "  </thead>\n",
       "  <tbody>\n",
       "    <tr>\n",
       "      <th>0</th>\n",
       "      <td>0</td>\n",
       "      <td>1</td>\n",
       "      <td>2</td>\n",
       "      <td>0</td>\n",
       "      <td>2</td>\n",
       "      <td>4</td>\n",
       "    </tr>\n",
       "    <tr>\n",
       "      <th>1</th>\n",
       "      <td>3</td>\n",
       "      <td>4</td>\n",
       "      <td>5</td>\n",
       "      <td>6</td>\n",
       "      <td>8</td>\n",
       "      <td>10</td>\n",
       "    </tr>\n",
       "    <tr>\n",
       "      <th>2</th>\n",
       "      <td>6</td>\n",
       "      <td>7</td>\n",
       "      <td>8</td>\n",
       "      <td>12</td>\n",
       "      <td>14</td>\n",
       "      <td>16</td>\n",
       "    </tr>\n",
       "  </tbody>\n",
       "</table>\n",
       "</div>"
      ],
      "text/plain": [
       "   a  b  c  a2  b2  c2\n",
       "0  0  1  2   0   2   4\n",
       "1  3  4  5   6   8  10\n",
       "2  6  7  8  12  14  16"
      ]
     },
     "execution_count": 78,
     "metadata": {},
     "output_type": "execute_result"
    }
   ],
   "source": [
    "futures.get()"
   ]
  },
  {
   "cell_type": "code",
   "execution_count": 79,
   "id": "0d0d8590",
   "metadata": {},
   "outputs": [
    {
     "data": {
      "text/plain": [
       "{3: array(3.), 4: array(4.), 'a2': None, 'b2': None, 'c2': None, 5: array(5.)}"
      ]
     },
     "execution_count": 79,
     "metadata": {},
     "output_type": "execute_result"
    }
   ],
   "source": [
    "futures.results"
   ]
  }
 ],
 "metadata": {
  "kernelspec": {
   "display_name": "Python 3",
   "language": "python",
   "name": "python3"
  },
  "language_info": {
   "codemirror_mode": {
    "name": "ipython",
    "version": 3
   },
   "file_extension": ".py",
   "mimetype": "text/x-python",
   "name": "python",
   "nbconvert_exporter": "python",
   "pygments_lexer": "ipython3",
   "version": "3.9.5"
  }
 },
 "nbformat": 4,
 "nbformat_minor": 5
}
